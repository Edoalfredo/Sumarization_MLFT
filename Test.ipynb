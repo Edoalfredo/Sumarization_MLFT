{
 "cells": [
  {
   "cell_type": "code",
   "execution_count": 8,
   "metadata": {},
   "outputs": [],
   "source": [
    "import os\n",
    "import pandas as pd\n",
    "import torch\n",
    "from torch import optim\n",
    "from torch.utils.data import Dataset, DataLoader"
   ]
  },
  {
   "cell_type": "code",
   "execution_count": 2,
   "metadata": {},
   "outputs": [
    {
     "data": {
      "text/html": [
       "<div>\n",
       "<style scoped>\n",
       "    .dataframe tbody tr th:only-of-type {\n",
       "        vertical-align: middle;\n",
       "    }\n",
       "\n",
       "    .dataframe tbody tr th {\n",
       "        vertical-align: top;\n",
       "    }\n",
       "\n",
       "    .dataframe thead th {\n",
       "        text-align: right;\n",
       "    }\n",
       "</style>\n",
       "<table border=\"1\" class=\"dataframe\">\n",
       "  <thead>\n",
       "    <tr style=\"text-align: right;\">\n",
       "      <th></th>\n",
       "      <th>paragraphs</th>\n",
       "      <th>summary</th>\n",
       "    </tr>\n",
       "  </thead>\n",
       "  <tbody>\n",
       "    <tr>\n",
       "      <th>0</th>\n",
       "      <td>Jakarta  CNN Indonesia - - Bayern Munich menja...</td>\n",
       "      <td>Bayern Munich menjadi klub raksasa Eropa teran...</td>\n",
       "    </tr>\n",
       "    <tr>\n",
       "      <th>1</th>\n",
       "      <td>Merdeka.com - Catatan tak pernah kalah yang di...</td>\n",
       "      <td>Catatan tak pernah kalah yang dirangkum oleh P...</td>\n",
       "    </tr>\n",
       "    <tr>\n",
       "      <th>2</th>\n",
       "      <td>Instagram Stories adalah candu baru buat merek...</td>\n",
       "      <td>Kita mungkom telah banyak melihat ada teman ya...</td>\n",
       "    </tr>\n",
       "    <tr>\n",
       "      <th>3</th>\n",
       "      <td>Pemerintah bersama dengan Kepolisian RI  TNI  ...</td>\n",
       "      <td>Pemerintah bersama dengan Kepolisian RI  TNI ...</td>\n",
       "    </tr>\n",
       "    <tr>\n",
       "      <th>4</th>\n",
       "      <td>Mantan Bupati Buton  Samsu Umar Abdul Samiun d...</td>\n",
       "      <td>Mantan Bupati Buton  Samsu Umar Abdul Samiun d...</td>\n",
       "    </tr>\n",
       "  </tbody>\n",
       "</table>\n",
       "</div>"
      ],
      "text/plain": [
       "                                          paragraphs  \\\n",
       "0  Jakarta  CNN Indonesia - - Bayern Munich menja...   \n",
       "1  Merdeka.com - Catatan tak pernah kalah yang di...   \n",
       "2  Instagram Stories adalah candu baru buat merek...   \n",
       "3  Pemerintah bersama dengan Kepolisian RI  TNI  ...   \n",
       "4  Mantan Bupati Buton  Samsu Umar Abdul Samiun d...   \n",
       "\n",
       "                                             summary  \n",
       "0  Bayern Munich menjadi klub raksasa Eropa teran...  \n",
       "1  Catatan tak pernah kalah yang dirangkum oleh P...  \n",
       "2  Kita mungkom telah banyak melihat ada teman ya...  \n",
       "3   Pemerintah bersama dengan Kepolisian RI  TNI ...  \n",
       "4  Mantan Bupati Buton  Samsu Umar Abdul Samiun d...  "
      ]
     },
     "execution_count": 2,
     "metadata": {},
     "output_type": "execute_result"
    }
   ],
   "source": [
    "datapath = os.path.join('./test_Indosum (1).csv')\n",
    "\n",
    "data_test = pd.read_csv(datapath, encoding='latin-1')\n",
    "data_test.head()"
   ]
  },
  {
   "cell_type": "code",
   "execution_count": 11,
   "metadata": {},
   "outputs": [],
   "source": [
    "import pandas as pd\n",
    "from torch.utils.data import Dataset\n",
    "\n",
    "class T5Dataset(Dataset):\n",
    "    def __init__(self, path, tokenizer):\n",
    "        self.df = pd.read_csv(path, on_bad_lines='skip')\n",
    "        self.summary = self.df[\"summary\"]\n",
    "        self.paragraphs = self.df[\"paragraphs\"]\n",
    "        self.tokenizer = tokenizer\n",
    "\n",
    "    def __len__(self):\n",
    "        return len(self.paragraphs)\n",
    "\n",
    "    def __getitem__(self, index):\n",
    "        paragraphs = str(self.paragraphs[index])\n",
    "        summary = str(self.summary[index])\n",
    "        pad = self.tokenizer.pad_token\n",
    "        eos = self.tokenizer.eos_token\n",
    "        \n",
    "        # Encode input (paragraf) dengan prefix \"ringkasan: \"\n",
    "        encoding_paragraphs = self.tokenizer.encode_plus(\n",
    "            \"ringkasan: \" + paragraphs,\n",
    "            return_token_type_ids=False,\n",
    "            return_attention_mask=True,\n",
    "            max_length=512,\n",
    "            padding=\"max_length\",\n",
    "            truncation=True,\n",
    "            return_tensors='pt'\n",
    "        )\n",
    "\n",
    "        # Encode output (ringkasan)\n",
    "        encoding_summary = self.tokenizer.encode(\n",
    "            pad + summary,\n",
    "            add_special_tokens=False,\n",
    "            return_token_type_ids=False,\n",
    "            max_length=150,\n",
    "            padding='max_length',\n",
    "            truncation=True,\n",
    "            return_tensors='pt'\n",
    "        )\n",
    "        \n",
    "        return {\n",
    "            'sentence_text': paragraphs,\n",
    "            'summary_text': summary,\n",
    "            'input_ids': encoding_paragraphs['input_ids'].flatten(),\n",
    "            'attention_mask': encoding_paragraphs['attention_mask'].flatten(),\n",
    "            'lm_labels': encoding_summary.flatten(),\n",
    "        }"
   ]
  },
  {
   "cell_type": "code",
   "execution_count": 12,
   "metadata": {},
   "outputs": [],
   "source": [
    "train_set = T5Dataset(\"./train_Indosum (1).csv\",tokenizer)\n",
    "train_loader = DataLoader(train_set, batch_size = 8,shuffle = True)\n",
    "val_set = T5Dataset(\"./test_Indosum (1).csv\",tokenizer)\n",
    "val_loader = DataLoader(val_set, batch_size = 8,shuffle = True)"
   ]
  },
  {
   "cell_type": "code",
   "execution_count": 3,
   "metadata": {},
   "outputs": [
    {
     "name": "stderr",
     "output_type": "stream",
     "text": [
      "You set `add_prefix_space`. The tokenizer needs to be converted from the slow tokenizers\n"
     ]
    },
    {
     "name": "stdout",
     "output_type": "stream",
     "text": [
      "Model and tokenizer successfully loaded!\n"
     ]
    }
   ],
   "source": [
    "from transformers import AutoModelForSeq2SeqLM, AutoTokenizer\n",
    "\n",
    "save_path = \"./model_summarization/\"\n",
    "\n",
    "# Load model and tokenizer\n",
    "model = AutoModelForSeq2SeqLM.from_pretrained(save_path)\n",
    "tokenizer = AutoTokenizer.from_pretrained(save_path)\n",
    "\n",
    "print(\"Model and tokenizer successfully loaded!\")"
   ]
  },
  {
   "cell_type": "code",
   "execution_count": 14,
   "metadata": {},
   "outputs": [
    {
     "name": "stdout",
     "output_type": "stream",
     "text": [
      "Full text:\n",
      "Lima puluh warga penggusuran kolong flyover jalan tol Pluit - Tomang  dekat RPTRA Kalijodo  siang ini masih bertahan di lokasi . Padahal warga yang selama ini tinggal di rumah bedeng tersebut telah direlokasi ke Rusun Marunda dan Rusun Kapuk oleh Pemprov DKI Jakarta . Pantauan kumparan ( kumparan.com )  warga secara bergerombol berteduh di pojok salah satu sisi bawah jembatan jalan tol . Nampak perabotan rumah tangga seperti kasur  kursi  kompor  dan perabotan rumah tangga berserakan di bawah flyover .  Baca juga : Warga Kalijodo : Katanya Gusur Abis Lebaran ?  Menurut salah satu warga bernama Leo  warga yang masih bertahan di bawah flyover tersebut merupakan warga ber - KTP DKI Jakarta yang menolak dipindahkan ke Rusun Marunda maupun Rusun Kapuk . Dia beralasan  kebebasan dalam bertempat tinggal dirampas oleh pemerintah .  Baca juga : Korban Penggusuran Kalijodo Akan Dipindah ke Rusun Marunda dan Kapuk  \" Warga yang saat ini ada di sini ( bertahan di bawah kolong jembatan ) adalah warga yang memiliki KTP DKI  yang benar-benar hak bertempat tinggal dan harta miliknya diambil dan tidak bisa pindah ke mana-mana  \" ujar Leo  di lokasi  dekat RPTRA Kalijodo  Senin ( 18 / 6 ) . Warga yang masih bertahan menunggu kepastian hukum dari Pengadilan Tata Usaha Negara ( PTUN ) dalam proses banding permasalahan agraria di RPTRA Kalijodo . \" Kami masih menunggu kepastian hukum dari PTUN untuk banding tentang permasalahan agraria di seberang ( RPTRA Kalijodo )  \" imbuh Leo . Leo dan warga yang masih bertahan berharap agar pihaknya bisa bertemu secara terbuka dengan Pemprov DKI dan para ahli hukum . Warga akan memaparkan data - data yang mereka miliki dan bertanya secara langsung mengenai manfaat secara pasti dari pembangunan RPTRA Kalijodo dan nilai pembangunannya .  Baca juga : Kolong Tol Kalijodo Akan Dijadikan Lahan Parkir dan Sarana Olahraga  \" Harapan bisa bertemu dengan Pemprov DKI dalam diskusi terbuka dengan orang hukum juga  nanti data yang kami miliki kita paparkan . Dan kami akan menanyakan  bener gak sih RPTRA ini tempat hiburan tanpa adanya subsidi pengunjung  karena selama ini ramai kan karena adanya bus gratis dan sebagainya yang bersifat gratis  \" jelasnya . \" Kemudian siapa sih yang mau berekreasi dijemur sampai hitam panas-panas di situ  terakhir menanyakan nilai pembangunan dari RPTRA dan nilai ganti kepada si pembangun itu apa oleh negara  jangan sampai negara digadaikan kepada pengembang  \" pungkas Leo . Pemprov DKI Jakarta telah melakukan penggusuran bangunan liar di sekitar RPTRA Kalijodo  tepatnya di bawah jembatan jalan tol Pluit - Tomang . Penggusuran tersebut atas perintah dari Gubernur DKI Jakarta  Djarot Saiful Hidayat . Lokasi penggusuran nantinya akan dijadikan lokasi parkir dan sarana olahraga . Sedangkan warga korban penggusuran yang memiliki KTP DKI Jakarta akan dipindahkan ke Rusun Marunda dan Rusun Kapuk .\n",
      "\n",
      "Reference summary:\n",
      "Lima puluh warga penggusuran kolong flyover jalan tol Pluit - Tomang  dekat RPTRA Kalijodo  siang ini masih bertahan di lokasi . Padahal warga yang selama ini tinggal di rumah bedeng tersebut telah direlokasi ke Rusun Marunda dan Rusun Kapuk oleh Pemprov DKI Jakarta . Warga secara bergerombol berteduh di pojok salah satu sisi bawah jembatan jalan tol .\n",
      "\n",
      "Generated summary:\n",
      "Lima puluh warga penggusuran kolong flyover jalan tol Pluit- Tomang dekat RPTRA Kalijodo siang ini masih bertahan di lokasi tempat tinggal di rumah bedeng tersebut telah direlokasi ke Rusun Marunda dan Rusoon Kapuk oleh Pemprov DKI Jakarta yang menolak dipindahkan ke rusaun Mariado Senin ( 18 / 6). Seorang warga bernama Leo\n"
     ]
    }
   ],
   "source": [
    "with torch.no_grad():\n",
    "    data = next(iter(val_loader))\n",
    "    sentence_text, summary_text, input_ids, attention_mask, lm_labels = (\n",
    "        data[\"sentence_text\"],\n",
    "        data[\"summary_text\"],\n",
    "        data[\"input_ids\"],\n",
    "        data[\"attention_mask\"],\n",
    "        data[\"lm_labels\"],\n",
    "    )\n",
    "\n",
    "    # Generate summary\n",
    "    generated = model.generate(\n",
    "    input_ids=input_ids,\n",
    "            min_length=20,\n",
    "            max_length=80,\n",
    "            num_beams=10,\n",
    "            repetition_penalty=2.5,\n",
    "            length_penalty=1.0,\n",
    "            early_stopping=True,\n",
    "            no_repeat_ngram_size=2,\n",
    "            use_cache=True,\n",
    "            do_sample = True,\n",
    "            temperature = 0.8,\n",
    "            top_k = 50,\n",
    "            top_p = 0.95,\n",
    "    )\n",
    "\n",
    "    # Decode generated output\n",
    "    decoded_summary = tokenizer.decode(\n",
    "        generated[0],\n",
    "        skip_special_tokens=True,  # Hilangkan token spesial seperti <pad>, <sos>, dll.\n",
    "        clean_up_tokenization_spaces=True,  # Hapus spasi tambahan\n",
    "    )\n",
    "\n",
    "    # Print results\n",
    "    print(\"Full text:\")\n",
    "    print(sentence_text[0])  # Pastikan sentence_text berupa string\n",
    "    print(\"\\nReference summary:\")\n",
    "    print(summary_text[0])  # Pastikan summary_text berupa string\n",
    "    print(\"\\nGenerated summary:\")\n",
    "    print(decoded_summary)  # Hasil yang telah dibersihkan"
   ]
  },
  {
   "cell_type": "code",
   "execution_count": null,
   "metadata": {},
   "outputs": [],
   "source": []
  }
 ],
 "metadata": {
  "kernelspec": {
   "display_name": "Python 3",
   "language": "python",
   "name": "python3"
  },
  "language_info": {
   "codemirror_mode": {
    "name": "ipython",
    "version": 3
   },
   "file_extension": ".py",
   "mimetype": "text/x-python",
   "name": "python",
   "nbconvert_exporter": "python",
   "pygments_lexer": "ipython3",
   "version": "3.11.3"
  }
 },
 "nbformat": 4,
 "nbformat_minor": 2
}
